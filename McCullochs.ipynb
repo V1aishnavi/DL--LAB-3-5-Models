{
  "cells": [
    {
      "cell_type": "code",
      "execution_count": 1,
      "metadata": {
        "colab": {
          "base_uri": "https://localhost:8080/"
        },
        "id": "iDRwPpCVe8Fu",
        "outputId": "2849d7fb-1261-483e-eb4e-3cd7aa356009"
      },
      "outputs": [
        {
          "name": "stdout",
          "output_type": "stream",
          "text": [
            "Vaishnavi Karma\n",
            "B.Tech VII sem\n",
            "Roll No. 0873CS211115\n",
            "Input: [0, 0], Output: 0\n",
            "Input: [0, 1], Output: 0\n",
            "Input: [1, 0], Output: 0\n",
            "Input: [1, 1], Output: 1\n"
          ]
        }
      ],
      "source": [
        "import numpy as np\n",
        "print(\"Vaishnavi Karma\")\n",
        "print(\"B.Tech VII sem\")\n",
        "print(\"Roll No. 0873CS211115\")\n",
        "\n",
        "class McCullochPittsNeuron:\n",
        "    def __init__(self, weights, threshold):\n",
        "        self.weights = weights\n",
        "        self.threshold = threshold\n",
        "\n",
        "    def activate(self, inputs):\n",
        "        weighted_sum = np.dot(self.weights, inputs)\n",
        "        if weighted_sum >= self.threshold:\n",
        "            return 1\n",
        "        else:\n",
        "            return 0\n",
        "\n",
        "# Example usage: Implementing an AND gate\n",
        "and_neuron = McCullochPittsNeuron(weights=[1, 1], threshold=2)\n",
        "\n",
        "inputs = [[0, 0], [0, 1], [1, 0], [1, 1]]\n",
        "\n",
        "for input_pair in inputs:\n",
        "    output = and_neuron.activate(input_pair)\n",
        "    print(f\"Input: {input_pair}, Output: {output}\")"
      ]
    }
  ],
  "metadata": {
    "colab": {
      "provenance": []
    },
    "kernelspec": {
      "display_name": "Python 3",
      "name": "python3"
    },
    "language_info": {
      "codemirror_mode": {
        "name": "ipython",
        "version": 3
      },
      "file_extension": ".py",
      "mimetype": "text/x-python",
      "name": "python",
      "nbconvert_exporter": "python",
      "pygments_lexer": "ipython3",
      "version": "3.12.5"
    }
  },
  "nbformat": 4,
  "nbformat_minor": 0
}
