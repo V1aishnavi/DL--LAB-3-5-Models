{
  "cells": [
    {
      "cell_type": "code",
      "execution_count": 1,
      "metadata": {
        "colab": {
          "base_uri": "https://localhost:8080/"
        },
        "id": "3H5xn1_7jA_N",
        "outputId": "ba2b5cf0-f0a0-40eb-91cf-3742cb77b168"
      },
      "outputs": [
        {
          "name": "stdout",
          "output_type": "stream",
          "text": [
            "Vaishnavi Karma\n",
            "B.Tech VII sem\n",
            "Roll No. 0873CS211115\n",
            "Testing activation function: relu\n"
          ]
        },
        {
          "name": "stderr",
          "output_type": "stream",
          "text": [
            "c:\\Users\\hp\\AppData\\Local\\Programs\\Python\\Python312\\Lib\\site-packages\\keras\\src\\layers\\core\\dense.py:87: UserWarning: Do not pass an `input_shape`/`input_dim` argument to a layer. When using Sequential models, prefer using an `Input(shape)` object as the first layer in the model instead.\n",
            "  super().__init__(activity_regularizer=activity_regularizer, **kwargs)\n"
          ]
        },
        {
          "name": "stdout",
          "output_type": "stream",
          "text": [
            "Accuracy: 0.5870000123977661\n",
            "Testing activation function: sigmoid\n",
            "Accuracy: 0.5339999794960022\n",
            "Testing activation function: tanh\n",
            "Accuracy: 0.5759999752044678\n"
          ]
        }
      ],
      "source": [
        "import numpy as np\n",
        "import tensorflow as tf\n",
        "from tensorflow import keras\n",
        "from tensorflow.keras import layers\n",
        "\n",
        "print(\"Vaishnavi Karma\")\n",
        "print(\"B.Tech VII sem\")\n",
        "print(\"Roll No. 0873CS211115\")\n",
        "\n",
        "# Generate sample data\n",
        "np.random.seed(0)\n",
        "X = np.random.rand(1000, 20)\n",
        "y = np.random.randint(2, size=1000)\n",
        "\n",
        "# Define a function to create the model\n",
        "def create_model(activation):\n",
        "    model = keras.Sequential([\n",
        "        layers.Dense(64, activation=activation, input_shape=(20,)),\n",
        "        layers.Dense(1, activation='sigmoid')\n",
        "    ])\n",
        "    model.compile(optimizer='adam', loss='binary_crossentropy', metrics=['accuracy'])\n",
        "    return model\n",
        "\n",
        "# Activation functions to compare\n",
        "activation_functions = ['relu', 'sigmoid', 'tanh']\n",
        "\n",
        "# Train and evaluate models for each activation function\n",
        "for activation in activation_functions:\n",
        "    print(f\"Testing activation function: {activation}\")\n",
        "    model = create_model(activation)\n",
        "    history = model.fit(X, y, epochs=10, verbose=0)\n",
        "    _, accuracy = model.evaluate(X, y, verbose=0)\n",
        "    print(f\"Accuracy: {accuracy}\")"
      ]
    }
  ],
  "metadata": {
    "colab": {
      "provenance": []
    },
    "kernelspec": {
      "display_name": "Python 3",
      "name": "python3"
    },
    "language_info": {
      "codemirror_mode": {
        "name": "ipython",
        "version": 3
      },
      "file_extension": ".py",
      "mimetype": "text/x-python",
      "name": "python",
      "nbconvert_exporter": "python",
      "pygments_lexer": "ipython3",
      "version": "3.12.5"
    }
  },
  "nbformat": 4,
  "nbformat_minor": 0
}
